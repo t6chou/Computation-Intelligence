{
 "cells": [
  {
   "cell_type": "markdown",
   "metadata": {},
   "source": [
    "# ECE 457B - Tutorial 3\n",
    "\n",
    "1. Introduction to [Sklearn](https://scikit-learn.org/stable/index.html)\n",
    "2. The [IRIS dataset](https://archive.ics.uci.edu/ml/datasets/iris)\n",
    "3. Comparing Models"
   ]
  },
  {
   "cell_type": "code",
   "execution_count": 1,
   "metadata": {},
   "outputs": [],
   "source": [
    "import numpy as np\n",
    "\n",
    "from sklearn.datasets import load_iris\n",
    "from sklearn.model_selection import train_test_split\n",
    "from sklearn.preprocessing import OneHotEncoder, MinMaxScaler\n",
    "from sklearn.svm import SVC\n",
    "from sklearn.metrics import confusion_matrix, classification_report, ConfusionMatrixDisplay\n",
    "\n",
    "from tensorflow.keras.models import Sequential\n",
    "from tensorflow.keras.layers import Dense\n",
    "from tensorflow.keras.optimizers import Adam"
   ]
  },
  {
   "cell_type": "markdown",
   "metadata": {},
   "source": [
    "## Load and Explore Dataset\n",
    "\n",
    "Features\n",
    "1. sepal length in cm\n",
    "2. sepal width in cm\n",
    "3. petal length in cm\n",
    "4. petal width in cm\n",
    "\n",
    "\n",
    "Classes:\n",
    "1. Iris Setosa\n",
    "2. Iris Versicolour\n",
    "3. Iris Virginica\n",
    "\n",
    "\"One class is linearly separable from the other 2; the latter are NOT linearly separable from each other.\""
   ]
  },
  {
   "cell_type": "code",
   "execution_count": 2,
   "metadata": {},
   "outputs": [
    {
     "name": "stdout",
     "output_type": "stream",
     "text": [
      "Size of features: (150, 4)\n",
      "Size of labels: (150,)\n",
      "Sample data: [[5.1 3.5 1.4 0.2]\n",
      " [4.9 3.  1.4 0.2]\n",
      " [4.7 3.2 1.3 0.2]]\n",
      "Sample labels: [0 0 0]\n"
     ]
    }
   ],
   "source": [
    "iris = load_iris()\n",
    "x = iris.data\n",
    "y_ = iris.target\n",
    "\n",
    "print(\"Size of features: {}\".format(x.shape))\n",
    "print(\"Size of labels: {}\".format(y_.shape))\n",
    "\n",
    "print(\"Sample data: {}\".format(x[:3]))\n",
    "print(\"Sample labels: {}\".format(y_[:3]))\n",
    "\n",
    "class_names = ['setosa', 'versicolor', 'virginica']\n"
   ]
  },
  {
   "cell_type": "markdown",
   "metadata": {},
   "source": [
    "#### One hot encoding Example:\n",
    "labels: [0,0,1,2]\n",
    "\n",
    "0\n",
    "0\n",
    "1\n",
    "2\n",
    "\n",
    "3 different labels hence 3 columns:\n",
    "class-0,class-1,class-2\n",
    "1 0 0\n",
    "1 0 0\n",
    "0 1 0\n",
    "0 0 1"
   ]
  },
  {
   "cell_type": "markdown",
   "metadata": {},
   "source": [
    "## Data Preprocessing and Preparation\n",
    "\n",
    "Let's explore how we can use sklearn for full data proprocessing\n",
    "\n",
    "1. Normalize the feature space\n",
    "2. For the purpose of using a neural network and since this is a classification problem, we will be using softmax activation in the output layer. For that, we will change the labels to be one-hot-encoded (sklearn)\n",
    "3. Lets use a 80-20 train-test split. For that, we'll use the train_test_split function from sklearn"
   ]
  },
  {
   "cell_type": "code",
   "execution_count": 3,
   "metadata": {},
   "outputs": [
    {
     "name": "stdout",
     "output_type": "stream",
     "text": [
      "Sample train data: [[0.13888889 0.41666667 0.06779661 0.        ]\n",
      " [0.55555556 0.20833333 0.6779661  0.75      ]\n",
      " [0.66666667 0.45833333 0.57627119 0.54166667]]\n",
      "Sample train labels: [[1. 0. 0.]\n",
      " [0. 0. 1.]\n",
      " [0. 1. 0.]]\n"
     ]
    }
   ],
   "source": [
    "# Normalize the data\n",
    "X_norm = (x - x.min(axis=0)) / (x.max(axis=0) - x.min(axis=0))\n",
    "\n",
    "# One-hot encode the labels\n",
    "encoder = OneHotEncoder(sparse=False)\n",
    "\n",
    "# Split the data into training and testing\n",
    "# training 80% testing 20%\n",
    "train_x, test_x, train_y, test_y = train_test_split(X_norm, y_, test_size=0.20)\n",
    "\n",
    "train_y_enc = encoder.fit_transform(train_y.reshape(-1,1))\n",
    "test_y_enc = encoder.fit_transform(test_y.reshape(-1,1))\n",
    "\n",
    "print(\"Sample train data: {}\".format(train_x[:3]))\n",
    "print(\"Sample train labels: {}\".format(train_y_enc[:3]))"
   ]
  },
  {
   "cell_type": "code",
   "execution_count": 4,
   "metadata": {},
   "outputs": [
    {
     "name": "stdout",
     "output_type": "stream",
     "text": [
      "Sample train labels:   (0, 0)\t1.0\n",
      "  (1, 2)\t1.0\n",
      "  (2, 1)\t1.0\n"
     ]
    }
   ],
   "source": [
    "## Difference between sparse true here and sparse false as visible above\n",
    "encoder2 = OneHotEncoder(sparse=True)\n",
    "train_y_enc2 = encoder2.fit_transform(train_y.reshape(-1,1))\n",
    "print(\"Sample train labels: {}\".format(train_y_enc2[:3]))"
   ]
  },
  {
   "cell_type": "markdown",
   "metadata": {},
   "source": [
    "## The Model"
   ]
  },
  {
   "cell_type": "code",
   "execution_count": 5,
   "metadata": {},
   "outputs": [
    {
     "name": "stdout",
     "output_type": "stream",
     "text": [
      "Model: \"sequential\"\n",
      "_________________________________________________________________\n",
      "Layer (type)                 Output Shape              Param #   \n",
      "=================================================================\n",
      "input (Dense)                (None, 10)                50        \n",
      "_________________________________________________________________\n",
      "hidden1 (Dense)              (None, 10)                110       \n",
      "_________________________________________________________________\n",
      "output (Dense)               (None, 3)                 33        \n",
      "=================================================================\n",
      "Total params: 193\n",
      "Trainable params: 193\n",
      "Non-trainable params: 0\n",
      "_________________________________________________________________\n",
      "None\n"
     ]
    },
    {
     "name": "stderr",
     "output_type": "stream",
     "text": [
      "C:\\Users\\Islam\\AppData\\Roaming\\Python\\Python37\\site-packages\\tensorflow\\python\\keras\\optimizer_v2\\optimizer_v2.py:375: UserWarning: The `lr` argument is deprecated, use `learning_rate` instead.\n",
      "  \"The `lr` argument is deprecated, use `learning_rate` instead.\")\n"
     ]
    }
   ],
   "source": [
    "# Build the model\n",
    "model = Sequential()\n",
    "\n",
    "model.add(Dense(10, input_shape=(4,), activation='relu', name='input'))\n",
    "model.add(Dense(10, activation='relu', name='hidden1'))\n",
    "model.add(Dense(3, activation='softmax', name='output'))\n",
    "\n",
    "print(model.summary())\n",
    "\n",
    "\n",
    "# Compile the model\n",
    "# Adam optimizer with learning rate of 0.001\n",
    "optimizer = Adam(lr=0.001)\n",
    "model.compile(optimizer, loss='categorical_crossentropy', metrics=['accuracy'])"
   ]
  },
  {
   "cell_type": "code",
   "execution_count": 6,
   "metadata": {},
   "outputs": [
    {
     "name": "stdout",
     "output_type": "stream",
     "text": [
      "Epoch 1/50\n",
      "24/24 [==============================] - 2s 3ms/step - loss: 1.0484 - accuracy: 0.3417\n",
      "Epoch 2/50\n",
      "24/24 [==============================] - 0s 5ms/step - loss: 1.0235 - accuracy: 0.3417\n",
      "Epoch 3/50\n",
      "24/24 [==============================] - 0s 5ms/step - loss: 1.0016 - accuracy: 0.3583: 0s - loss: 1.0021 - accuracy: 0.35\n",
      "Epoch 4/50\n",
      "24/24 [==============================] - 0s 4ms/step - loss: 0.9806 - accuracy: 0.4333\n",
      "Epoch 5/50\n",
      "24/24 [==============================] - 0s 3ms/step - loss: 0.9617 - accuracy: 0.5750\n",
      "Epoch 6/50\n",
      "24/24 [==============================] - 0s 2ms/step - loss: 0.9410 - accuracy: 0.6500\n",
      "Epoch 7/50\n",
      "24/24 [==============================] - 0s 3ms/step - loss: 0.9169 - accuracy: 0.6667\n",
      "Epoch 8/50\n",
      "24/24 [==============================] - 0s 2ms/step - loss: 0.8925 - accuracy: 0.6667\n",
      "Epoch 9/50\n",
      "24/24 [==============================] - 0s 3ms/step - loss: 0.8675 - accuracy: 0.6667\n",
      "Epoch 10/50\n",
      "24/24 [==============================] - 0s 3ms/step - loss: 0.8396 - accuracy: 0.6667\n",
      "Epoch 11/50\n",
      "24/24 [==============================] - 0s 3ms/step - loss: 0.8128 - accuracy: 0.6667\n",
      "Epoch 12/50\n",
      "24/24 [==============================] - 0s 3ms/step - loss: 0.7865 - accuracy: 0.6667\n",
      "Epoch 13/50\n",
      "24/24 [==============================] - 0s 4ms/step - loss: 0.7569 - accuracy: 0.6667\n",
      "Epoch 14/50\n",
      "24/24 [==============================] - 0s 4ms/step - loss: 0.7285 - accuracy: 0.6667\n",
      "Epoch 15/50\n",
      "24/24 [==============================] - 0s 4ms/step - loss: 0.7036 - accuracy: 0.6667\n",
      "Epoch 16/50\n",
      "24/24 [==============================] - 0s 3ms/step - loss: 0.6759 - accuracy: 0.6667\n",
      "Epoch 17/50\n",
      "24/24 [==============================] - 0s 3ms/step - loss: 0.6515 - accuracy: 0.6667\n",
      "Epoch 18/50\n",
      "24/24 [==============================] - 0s 3ms/step - loss: 0.6312 - accuracy: 0.6667\n",
      "Epoch 19/50\n",
      "24/24 [==============================] - 0s 3ms/step - loss: 0.6056 - accuracy: 0.6750\n",
      "Epoch 20/50\n",
      "24/24 [==============================] - 0s 3ms/step - loss: 0.5848 - accuracy: 0.6833\n",
      "Epoch 21/50\n",
      "24/24 [==============================] - 0s 3ms/step - loss: 0.5658 - accuracy: 0.6917\n",
      "Epoch 22/50\n",
      "24/24 [==============================] - 0s 3ms/step - loss: 0.5493 - accuracy: 0.7083\n",
      "Epoch 23/50\n",
      "24/24 [==============================] - 0s 3ms/step - loss: 0.5313 - accuracy: 0.7000\n",
      "Epoch 24/50\n",
      "24/24 [==============================] - 0s 2ms/step - loss: 0.5161 - accuracy: 0.7083\n",
      "Epoch 25/50\n",
      "24/24 [==============================] - 0s 3ms/step - loss: 0.5035 - accuracy: 0.7083\n",
      "Epoch 26/50\n",
      "24/24 [==============================] - 0s 3ms/step - loss: 0.4907 - accuracy: 0.7500\n",
      "Epoch 27/50\n",
      "24/24 [==============================] - 0s 2ms/step - loss: 0.4791 - accuracy: 0.7333\n",
      "Epoch 28/50\n",
      "24/24 [==============================] - 0s 2ms/step - loss: 0.4696 - accuracy: 0.7250\n",
      "Epoch 29/50\n",
      "24/24 [==============================] - 0s 2ms/step - loss: 0.4581 - accuracy: 0.7583\n",
      "Epoch 30/50\n",
      "24/24 [==============================] - 0s 2ms/step - loss: 0.4552 - accuracy: 0.8417\n",
      "Epoch 31/50\n",
      "24/24 [==============================] - 0s 2ms/step - loss: 0.4429 - accuracy: 0.7583\n",
      "Epoch 32/50\n",
      "24/24 [==============================] - 0s 2ms/step - loss: 0.4322 - accuracy: 0.7833\n",
      "Epoch 33/50\n",
      "24/24 [==============================] - 0s 3ms/step - loss: 0.4263 - accuracy: 0.8750\n",
      "Epoch 34/50\n",
      "24/24 [==============================] - 0s 3ms/step - loss: 0.4182 - accuracy: 0.8333\n",
      "Epoch 35/50\n",
      "24/24 [==============================] - 0s 3ms/step - loss: 0.4113 - accuracy: 0.8583\n",
      "Epoch 36/50\n",
      "24/24 [==============================] - 0s 3ms/step - loss: 0.4067 - accuracy: 0.8917\n",
      "Epoch 37/50\n",
      "24/24 [==============================] - 0s 3ms/step - loss: 0.3991 - accuracy: 0.8917\n",
      "Epoch 38/50\n",
      "24/24 [==============================] - 0s 3ms/step - loss: 0.3942 - accuracy: 0.9083\n",
      "Epoch 39/50\n",
      "24/24 [==============================] - 0s 3ms/step - loss: 0.3861 - accuracy: 0.8917\n",
      "Epoch 40/50\n",
      "24/24 [==============================] - 0s 3ms/step - loss: 0.3801 - accuracy: 0.9000\n",
      "Epoch 41/50\n",
      "24/24 [==============================] - 0s 3ms/step - loss: 0.3743 - accuracy: 0.9250\n",
      "Epoch 42/50\n",
      "24/24 [==============================] - 0s 3ms/step - loss: 0.3678 - accuracy: 0.9167\n",
      "Epoch 43/50\n",
      "24/24 [==============================] - 0s 3ms/step - loss: 0.3629 - accuracy: 0.9417\n",
      "Epoch 44/50\n",
      "24/24 [==============================] - 0s 3ms/step - loss: 0.3570 - accuracy: 0.9250\n",
      "Epoch 45/50\n",
      "24/24 [==============================] - 0s 2ms/step - loss: 0.3513 - accuracy: 0.9417\n",
      "Epoch 46/50\n",
      "24/24 [==============================] - 0s 3ms/step - loss: 0.3508 - accuracy: 0.9167\n",
      "Epoch 47/50\n",
      "24/24 [==============================] - 0s 3ms/step - loss: 0.3465 - accuracy: 0.9583\n",
      "Epoch 48/50\n",
      "24/24 [==============================] - 0s 3ms/step - loss: 0.3349 - accuracy: 0.9417\n",
      "Epoch 49/50\n",
      "24/24 [==============================] - 0s 3ms/step - loss: 0.3321 - accuracy: 0.9167\n",
      "Epoch 50/50\n",
      "24/24 [==============================] - 0s 3ms/step - loss: 0.3261 - accuracy: 0.9500\n"
     ]
    },
    {
     "data": {
      "text/plain": [
       "<tensorflow.python.keras.callbacks.History at 0x16827d85848>"
      ]
     },
     "execution_count": 6,
     "metadata": {},
     "output_type": "execute_result"
    }
   ],
   "source": [
    "# Train the model\n",
    "model.fit(train_x, train_y_enc, verbose=1\n",
    "          , batch_size=5, epochs=50)"
   ]
  },
  {
   "cell_type": "code",
   "execution_count": 7,
   "metadata": {},
   "outputs": [
    {
     "name": "stdout",
     "output_type": "stream",
     "text": [
      "1/1 [==============================] - 0s 162ms/step - loss: 0.2905 - accuracy: 0.9333\n",
      "Final test set loss: 0.290549\n",
      "Final test set accuracy: 0.933333\n"
     ]
    }
   ],
   "source": [
    "# Test on unseen data\n",
    "\n",
    "results = model.evaluate(test_x, test_y_enc)\n",
    "\n",
    "print('Final test set loss: {:4f}'.format(results[0]))\n",
    "print('Final test set accuracy: {:4f}'.format(results[1]))"
   ]
  },
  {
   "cell_type": "markdown",
   "metadata": {},
   "source": [
    "## Confusion Matrix"
   ]
  },
  {
   "cell_type": "code",
   "execution_count": 8,
   "metadata": {
    "scrolled": true
   },
   "outputs": [
    {
     "name": "stdout",
     "output_type": "stream",
     "text": [
      "[[11  0  0]\n",
      " [ 0  8  2]\n",
      " [ 0  0  9]]\n",
      "              precision    recall  f1-score   support\n",
      "\n",
      "      setosa       1.00      1.00      1.00        11\n",
      "  versicolor       1.00      0.80      0.89        10\n",
      "   virginica       0.82      1.00      0.90         9\n",
      "\n",
      "    accuracy                           0.93        30\n",
      "   macro avg       0.94      0.93      0.93        30\n",
      "weighted avg       0.95      0.93      0.93        30\n",
      "\n"
     ]
    },
    {
     "data": {
      "text/plain": [
       "<sklearn.metrics._plot.confusion_matrix.ConfusionMatrixDisplay at 0x1683472fb88>"
      ]
     },
     "execution_count": 8,
     "metadata": {},
     "output_type": "execute_result"
    },
    {
     "data": {
      "image/png": "[encoded data removed]",
      "text/plain": [
       "<Figure size 432x288 with 2 Axes>"
      ]
     },
     "metadata": {
      "needs_background": "light"
     },
     "output_type": "display_data"
    }
   ],
   "source": [
    "# y_mlp = model.predict_classes(test_x)\n",
    "y_mlp =np.argmax(model.predict(test_x), axis=-1)\n",
    "cm_mlp = confusion_matrix(test_y, y_mlp)\n",
    "print(cm_mlp)\n",
    "print(classification_report(test_y, y_mlp, target_names=class_names))\n",
    "\n",
    "disp1 = ConfusionMatrixDisplay(confusion_matrix=cm_mlp,display_labels=class_names)\n",
    "disp1.plot()"
   ]
  },
  {
   "cell_type": "code",
   "execution_count": null,
   "metadata": {},
   "outputs": [],
   "source": []
  }
 ],
 "metadata": {
  "kernelspec": {
   "display_name": "Python 3",
   "language": "python",
   "name": "python3"
  },
  "language_info": {
   "codemirror_mode": {
    "name": "ipython",
    "version": 3
   },
   "file_extension": ".py",
   "mimetype": "text/x-python",
   "name": "python",
   "nbconvert_exporter": "python",
   "pygments_lexer": "ipython3",
   "version": "3.10.4"
  },
  "vscode": {
   "interpreter": {
    "hash": "0f0f153560ccfe3a7f8a3a797eff40f75c915e6b8a0d65e3e90b6570fc21b6e0"
   }
  }
 },
 "nbformat": 4,
 "nbformat_minor": 2
}
