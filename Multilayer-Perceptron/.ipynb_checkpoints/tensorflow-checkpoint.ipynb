{
 "cells": [
  {
   "cell_type": "markdown",
   "metadata": {},
   "source": [
    "# Python Introduction: tensorflow\n",
    "\n",
    "\n",
    "**Import required packages**"
   ]
  },
  {
   "cell_type": "code",
   "execution_count": 3,
   "metadata": {},
   "outputs": [
    {
     "ename": "ModuleNotFoundError",
     "evalue": "No module named 'tensorflow'",
     "output_type": "error",
     "traceback": [
      "\u001b[1;31m---------------------------------------------------------------------------\u001b[0m",
      "\u001b[1;31mModuleNotFoundError\u001b[0m                       Traceback (most recent call last)",
      "Cell \u001b[1;32mIn[3], line 2\u001b[0m\n\u001b[0;32m      1\u001b[0m \u001b[39mfrom\u001b[39;00m \u001b[39m__future__\u001b[39;00m \u001b[39mimport\u001b[39;00m absolute_import, division, print_function, unicode_literals\n\u001b[1;32m----> 2\u001b[0m \u001b[39mimport\u001b[39;00m \u001b[39mtensorflow\u001b[39;00m \u001b[39mas\u001b[39;00m \u001b[39mtf\u001b[39;00m\n\u001b[0;32m      3\u001b[0m \u001b[39mimport\u001b[39;00m \u001b[39mmatplotlib\u001b[39;00m\u001b[39m.\u001b[39;00m\u001b[39mpyplot\u001b[39;00m \u001b[39mas\u001b[39;00m \u001b[39mplt\u001b[39;00m\n\u001b[0;32m      4\u001b[0m \u001b[39mimport\u001b[39;00m \u001b[39mnumpy\u001b[39;00m \u001b[39mas\u001b[39;00m \u001b[39mnp\u001b[39;00m\n",
      "\u001b[1;31mModuleNotFoundError\u001b[0m: No module named 'tensorflow'"
     ]
    }
   ],
   "source": [
    "from __future__ import absolute_import, division, print_function, unicode_literals\n",
    "import tensorflow as tf\n",
    "import matplotlib.pyplot as plt\n",
    "import numpy as np\n",
    "import random"
   ]
  },
  {
   "cell_type": "markdown",
   "metadata": {},
   "source": [
    "It was reported that MacOS gives an error during the model.fit() function.\n",
    "\n",
    "To fix that error, please run the next cell"
   ]
  },
  {
   "cell_type": "code",
   "execution_count": 2,
   "metadata": {},
   "outputs": [],
   "source": [
    "# # uncomment and run the following lines if you're using MacOS\n",
    "# import os\n",
    "\n",
    "# os.environ['KMP_DUPLICATE_LIB_OK']='True'"
   ]
  },
  {
   "cell_type": "markdown",
   "metadata": {},
   "source": [
    "Find out which version you have for tensorflow.\n",
    "\n",
    "We are currently utilizing Tensorflow 2.0 (or higher)"
   ]
  },
  {
   "cell_type": "code",
   "execution_count": 2,
   "metadata": {},
   "outputs": [
    {
     "ename": "NameError",
     "evalue": "name 'tf' is not defined",
     "output_type": "error",
     "traceback": [
      "\u001b[1;31m---------------------------------------------------------------------------\u001b[0m",
      "\u001b[1;31mNameError\u001b[0m                                 Traceback (most recent call last)",
      "Cell \u001b[1;32mIn[2], line 1\u001b[0m\n\u001b[1;32m----> 1\u001b[0m \u001b[39mprint\u001b[39m(tf\u001b[39m.\u001b[39m__version__)\n",
      "\u001b[1;31mNameError\u001b[0m: name 'tf' is not defined"
     ]
    }
   ],
   "source": [
    "print(tf.__version__)"
   ]
  },
  {
   "cell_type": "markdown",
   "metadata": {},
   "source": [
    "## About the MNIST Dataset\n",
    "The MNIST dataset is a database of handwritten digits (0-9) that features 60,000 training images and 10,000 test images.\n",
    "\n",
    "All images are 28x28 pixels and are in grayscale. It serves as a good dataset to test various classification algorithms on.\n",
    "\n",
    "More information on the dataset can be found in __[Yann LeCun's MNIST Database](http://yann.lecun.com/exdb/mnist/)__"
   ]
  },
  {
   "cell_type": "code",
   "execution_count": 1,
   "metadata": {},
   "outputs": [
    {
     "ename": "NameError",
     "evalue": "name 'tf' is not defined",
     "output_type": "error",
     "traceback": [
      "\u001b[1;31m---------------------------------------------------------------------------\u001b[0m",
      "\u001b[1;31mNameError\u001b[0m                                 Traceback (most recent call last)",
      "Cell \u001b[1;32mIn[1], line 2\u001b[0m\n\u001b[0;32m      1\u001b[0m \u001b[39m# Load the mnist dataset using Keras (TF)\u001b[39;00m\n\u001b[1;32m----> 2\u001b[0m mnist \u001b[39m=\u001b[39m tf\u001b[39m.\u001b[39mkeras\u001b[39m.\u001b[39mdatasets\u001b[39m.\u001b[39mmnist\n\u001b[0;32m      4\u001b[0m \u001b[39m# Divide the dataset into train and test using load_data function\u001b[39;00m\n\u001b[0;32m      5\u001b[0m (x_train, y_train), (x_test, y_test) \u001b[39m=\u001b[39m mnist\u001b[39m.\u001b[39mload_data()\n",
      "\u001b[1;31mNameError\u001b[0m: name 'tf' is not defined"
     ]
    }
   ],
   "source": [
    "# Load the mnist dataset using Keras (TF)\n",
    "mnist = tf.keras.datasets.mnist\n",
    "\n",
    "# Divide the dataset into train and test using load_data function\n",
    "(x_train, y_train), (x_test, y_test) = mnist.load_data()\n",
    "\n",
    "# Normalization\n",
    "x_train, x_test = x_train / 255.0, x_test / 255.0\n",
    "\n",
    "print(type(x_train))"
   ]
  },
  {
   "cell_type": "markdown",
   "metadata": {},
   "source": [
    "### Visualize the dataset\n",
    "Lets take a sample from each digit and visualize them"
   ]
  },
  {
   "cell_type": "code",
   "execution_count": null,
   "metadata": {},
   "outputs": [
    {
     "data": {
      "image/png": "[encoded data removed]",
      "text/plain": [
       "<Figure size 432x288 with 10 Axes>"
      ]
     },
     "metadata": {
      "needs_background": "light"
     },
     "output_type": "display_data"
    }
   ],
   "source": [
    "# obtain all unique values of labels -- expected output [0-9]\n",
    "labels = set(y_test)\n",
    "\n",
    "i = 0\n",
    "for label in labels:\n",
    "    imgs = x_test[y_test==label]\n",
    "    img = imgs[0]\n",
    "    \n",
    "    # plot\n",
    "    plt.subplot(2,5,i+1)\n",
    "    plt.imshow(img)\n",
    "    plt.title('Digit %.f' %label)\n",
    "    plt.axis('off')\n",
    "    plt.subplots_adjust(wspace = 0.4)\n",
    "    i+=1\n"
   ]
  },
  {
   "cell_type": "markdown",
   "metadata": {},
   "source": [
    "Build a sequential neural network\n",
    "\n",
    "The network will be as follows:\n",
    "* Input later of size 784\n",
    "* Layer with 128 nodes with a relu activation function\n",
    "* A dropout layer with dropout probability of 0.2\n",
    "* A final Layer of size 10 with a softmax activation function"
   ]
  },
  {
   "cell_type": "code",
   "execution_count": null,
   "metadata": {},
   "outputs": [
    {
     "name": "stdout",
     "output_type": "stream",
     "text": [
      "Model: \"sequential_2\"\n",
      "_________________________________________________________________\n",
      " Layer (type)                Output Shape              Param #   \n",
      "=================================================================\n",
      " flatten_2 (Flatten)         (None, 784)               0         \n",
      "                                                                 \n",
      " dense_4 (Dense)             (None, 128)               100480    \n",
      "                                                                 \n",
      " dropout_1 (Dropout)         (None, 128)               0         \n",
      "                                                                 \n",
      " dense_5 (Dense)             (None, 10)                1290      \n",
      "                                                                 \n",
      "=================================================================\n",
      "Total params: 101,770\n",
      "Trainable params: 101,770\n",
      "Non-trainable params: 0\n",
      "_________________________________________________________________\n",
      "None\n"
     ]
    }
   ],
   "source": [
    "model = tf.keras.models.Sequential([\n",
    "  tf.keras.layers.Flatten(input_shape=(28, 28)),\n",
    "  tf.keras.layers.Dense(128, activation='relu'),#,kernel_regularizer='l2'),\n",
    "  tf.keras.layers.Dropout(0.2),\n",
    " \n",
    "  tf.keras.layers.Dense(10, activation='softmax')\n",
    "])\n",
    "\n",
    "print(model.summary())"
   ]
  },
  {
   "cell_type": "markdown",
   "metadata": {},
   "source": [
    "Set the optimization package (algorithm) as adam and use a loss of spare categorical cross entropy. \n",
    "\n",
    "Use the accuracy (how often is the prediction correct) as the metric for the quality of output at each epoch.\n",
    "\n",
    "*What is the difference between the loss function and the metric?*"
   ]
  },
  {
   "cell_type": "code",
   "execution_count": null,
   "metadata": {},
   "outputs": [],
   "source": [
    "# Compile the model\n",
    "model.compile(optimizer='adam',\n",
    "              loss='sparse_categorical_crossentropy',\n",
    "              metrics=['accuracy'])"
   ]
  },
  {
   "cell_type": "markdown",
   "metadata": {},
   "source": [
    "**What other optimizers, loss functions, and metrics are there?**:\n",
    "* __[Loss Functions](https://www.tensorflow.org/api_docs/python/tf/keras/losses)__\n",
    "* __[Metrics](https://www.tensorflow.org/api_docs/python/tf/keras/metrics)__\n",
    "* __[Optimizer](https://www.tensorflow.org/api_docs/python/tf/keras/optimizers)__"
   ]
  },
  {
   "cell_type": "markdown",
   "metadata": {},
   "source": [
    "Fit the model and evaluate the output accuracy"
   ]
  },
  {
   "cell_type": "code",
   "execution_count": null,
   "metadata": {},
   "outputs": [
    {
     "name": "stdout",
     "output_type": "stream",
     "text": [
      "Epoch 1/5\n",
      "1875/1875 [==============================] - 6s 3ms/step - loss: 0.2990 - accuracy: 0.9125\n",
      "Epoch 2/5\n",
      "1875/1875 [==============================] - 5s 3ms/step - loss: 0.1459 - accuracy: 0.9561\n",
      "Epoch 3/5\n",
      "1875/1875 [==============================] - 5s 3ms/step - loss: 0.1096 - accuracy: 0.9666\n",
      "Epoch 4/5\n",
      "1875/1875 [==============================] - 5s 3ms/step - loss: 0.0887 - accuracy: 0.9722\n",
      "Epoch 5/5\n",
      "1875/1875 [==============================] - 5s 3ms/step - loss: 0.0767 - accuracy: 0.9750\n",
      "313/313 - 1s - loss: 0.0783 - accuracy: 0.9769 - 631ms/epoch - 2ms/step\n"
     ]
    },
    {
     "data": {
      "text/plain": [
       "[0.07829660922288895, 0.9768999814987183]"
      ]
     },
     "execution_count": 19,
     "metadata": {},
     "output_type": "execute_result"
    }
   ],
   "source": [
    "model.fit(x_train, y_train, epochs=5)\n",
    "\n",
    "model.evaluate(x_test,  y_test, verbose=2)"
   ]
  },
  {
   "cell_type": "markdown",
   "metadata": {},
   "source": [
    "Explain output\n",
    "Show images! and classify"
   ]
  },
  {
   "cell_type": "code",
   "execution_count": null,
   "metadata": {},
   "outputs": [
    {
     "data": {
      "text/plain": [
       "array([[6.6948883e-06, 7.8553803e-09, 1.1255839e-07, 5.7327281e-07,\n",
       "        5.0105041e-07, 9.9996400e-01, 8.5306883e-06, 3.8720664e-08,\n",
       "        1.9525938e-05, 4.5392293e-10],\n",
       "       [1.1319084e-12, 4.0243413e-11, 4.8627144e-11, 3.8476675e-04,\n",
       "        8.8900989e-16, 9.9961323e-01, 7.0310285e-11, 1.4621981e-14,\n",
       "        5.7221946e-08, 2.0012756e-06],\n",
       "       [9.2054433e-06, 1.0974138e-06, 3.7094251e-05, 1.0086159e-06,\n",
       "        2.2266254e-06, 1.3300341e-04, 9.9955457e-01, 1.0794698e-08,\n",
       "        2.6176806e-04, 1.9267159e-09],\n",
       "       [9.9329376e-01, 1.3291293e-06, 5.3127641e-03, 5.6546960e-05,\n",
       "        3.5975515e-06, 8.3292507e-05, 1.0523819e-04, 1.0592590e-06,\n",
       "        1.1283924e-03, 1.4058400e-05],\n",
       "       [9.2254027e-07, 4.1709386e-02, 4.1959360e-01, 8.7959226e-03,\n",
       "        2.1129334e-09, 5.0011244e-09, 3.5615257e-09, 5.2771860e-01,\n",
       "        2.1747821e-03, 6.7826768e-06],\n",
       "       [3.0380323e-09, 9.9990177e-01, 6.3174216e-06, 6.1457740e-07,\n",
       "        2.4895728e-06, 9.2982724e-08, 2.7097917e-06, 8.9973983e-06,\n",
       "        7.6980228e-05, 6.3096534e-10],\n",
       "       [5.7708421e-06, 2.9793858e-07, 7.3107742e-08, 7.4236697e-05,\n",
       "        4.6780373e-05, 5.0315179e-04, 9.9935371e-01, 5.9061193e-07,\n",
       "        2.3003079e-06, 1.3026801e-05],\n",
       "       [9.9693227e-01, 4.8141929e-10, 7.6701166e-04, 3.8884471e-07,\n",
       "        2.3514666e-07, 1.4879050e-05, 2.2830334e-03, 1.7996645e-09,\n",
       "        2.1764888e-06, 1.6229460e-09],\n",
       "       [6.2581996e-08, 3.9214465e-06, 6.9632147e-06, 9.9967778e-01,\n",
       "        1.5665393e-09, 2.2055427e-04, 2.1849417e-12, 1.0533143e-06,\n",
       "        2.4672323e-08, 8.9684821e-05],\n",
       "       [6.0428974e-08, 3.8633714e-11, 3.8553554e-07, 1.7538981e-07,\n",
       "        9.9777138e-01, 3.2930595e-07, 6.6168795e-06, 3.2946572e-04,\n",
       "        4.2311960e-05, 1.8492255e-03]], dtype=float32)"
      ]
     },
     "execution_count": 23,
     "metadata": {},
     "output_type": "execute_result"
    }
   ],
   "source": [
    "# pick 10 random images to classify\n",
    "inds = random.sample([i for i in range(len(y_test))],10)\n",
    "\n",
    "# # predict the classes for each of the picked images\n",
    "# y_out = model.predict_classes(x_test[inds])\n",
    "\n",
    "# Generate predictions for samples\n",
    "predictions = model.predict(x_test[inds])\n",
    "# print(predictions)\n",
    "predictions\n"
   ]
  },
  {
   "cell_type": "code",
   "execution_count": null,
   "metadata": {},
   "outputs": [
    {
     "data": {
      "text/plain": [
       "array([2, 1, 1, 7, 4, 2, 9, 8, 7, 3], dtype=int64)"
      ]
     },
     "execution_count": 21,
     "metadata": {},
     "output_type": "execute_result"
    }
   ],
   "source": [
    "y_out = np.argmax(predictions, axis = 1)\n",
    "y_out\n"
   ]
  },
  {
   "cell_type": "code",
   "execution_count": null,
   "metadata": {},
   "outputs": [
    {
     "data": {
      "image/png": "[encoded data removed]",
      "text/plain": [
       "<Figure size 432x288 with 10 Axes>"
      ]
     },
     "metadata": {
      "needs_background": "light"
     },
     "output_type": "display_data"
    }
   ],
   "source": [
    "i = 0\n",
    "for ind in inds:\n",
    "    # plot each digit along with its True Label (TL) and Predicted Label (PL)\n",
    "    img = x_test[ind]\n",
    "    plt.subplot(2,5,i+1)\n",
    "    plt.imshow(img)\n",
    "    plt.title('TL: %.f \\nPL: %.f' %(y_test[ind],y_out[i]))\n",
    "    plt.axis('off')\n",
    "    plt.subplots_adjust(wspace = 0.8)\n",
    "    i+=1"
   ]
  },
  {
   "cell_type": "markdown",
   "metadata": {},
   "source": [
    "# END OF TENSORFLOW INTRODUCTION"
   ]
  },
  {
   "cell_type": "code",
   "execution_count": null,
   "metadata": {},
   "outputs": [],
   "source": []
  }
 ],
 "metadata": {
  "kernelspec": {
   "display_name": "Python 3 (ipykernel)",
   "language": "python",
   "name": "python3"
  },
  "language_info": {
   "codemirror_mode": {
    "name": "ipython",
    "version": 3
   },
   "file_extension": ".py",
   "mimetype": "text/x-python",
   "name": "python",
   "nbconvert_exporter": "python",
   "pygments_lexer": "ipython3",
   "version": "3.7.13"
  },
  "vscode": {
   "interpreter": {
    "hash": "0f0f153560ccfe3a7f8a3a797eff40f75c915e6b8a0d65e3e90b6570fc21b6e0"
   }
  }
 },
 "nbformat": 4,
 "nbformat_minor": 2
}
