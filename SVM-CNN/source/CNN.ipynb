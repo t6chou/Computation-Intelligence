{
 "cells": [
  {
   "attachments": {},
   "cell_type": "markdown",
   "metadata": {},
   "source": [
    "## Q.2 "
   ]
  },
  {
   "cell_type": "code",
   "execution_count": 27,
   "metadata": {},
   "outputs": [],
   "source": [
    "from __future__ import division\n",
    "from __future__ import print_function\n",
    "import pandas as pd\n",
    "import numpy as np\n",
    "import matplotlib.pyplot as plt\n",
    "from sklearn.model_selection import train_test_split\n",
    "import tensorflow.keras as keras\n",
    "from tensorflow.keras.models import Sequential\n",
    "from tensorflow.keras.layers import Dense, Conv2D, MaxPool2D, Flatten, Dropout\n",
    "from tensorflow.keras.datasets import cifar10\n",
    "from tensorflow.keras.utils import to_categorical"
   ]
  },
  {
   "attachments": {},
   "cell_type": "markdown",
   "metadata": {},
   "source": [
    "## Data Preprocessing"
   ]
  },
  {
   "cell_type": "code",
   "execution_count": 28,
   "metadata": {},
   "outputs": [
    {
     "name": "stdout",
     "output_type": "stream",
     "text": [
      "train images shape: (50000, 32, 32, 3)\n",
      "train labels shape: (50000, 10)\n",
      "test images shape: (10000, 32, 32, 3)\n",
      "test labels shape: (10000, 10)\n"
     ]
    }
   ],
   "source": [
    "(train_images, train_labels), (test_images, test_labels) = cifar10.load_data()\n",
    "train_labels = to_categorical(train_labels, num_classes=10)\n",
    "test_labels = to_categorical(test_labels, num_classes=10)\n",
    "print('train images shape:', train_images.shape)\n",
    "print('train labels shape:', train_labels.shape)\n",
    "print('test images shape:', test_images.shape)\n",
    "print('test labels shape:', test_labels.shape)"
   ]
  },
  {
   "attachments": {},
   "cell_type": "markdown",
   "metadata": {},
   "source": [
    "## Data Normalization"
   ]
  },
  {
   "cell_type": "code",
   "execution_count": 29,
   "metadata": {},
   "outputs": [],
   "source": [
    "train_images = train_images.astype(np.float32)\n",
    "mean = np.mean(train_images)\n",
    "std = np.std(train_images)\n",
    "train_images = (train_images - mean) / std\n",
    "test_images = (test_images - mean) / std"
   ]
  },
  {
   "cell_type": "code",
   "execution_count": 30,
   "metadata": {},
   "outputs": [],
   "source": [
    "if len(train_labels.shape)==1:\n",
    "    train_labels = keras.utils.to_categorical(train_labels, num_classes=10)\n",
    "    test_labels = keras.utils.to_categorical(test_labels, num_classes=10)\n",
    "# print(train_labels.shape, test_labels.shape) \n",
    "# print(train_labels[0:3])\n",
    "# print('Old labels: {}'.format(np.argmax(train_labels[:3], axis=1)))\n",
    "\n",
    "result = np.empty((3, 4), dtype=float)"
   ]
  },
  {
   "attachments": {},
   "cell_type": "markdown",
   "metadata": {},
   "source": [
    "## Multilayer Perceptron"
   ]
  },
  {
   "cell_type": "code",
   "execution_count": 49,
   "metadata": {},
   "outputs": [],
   "source": [
    "# define the model type (still empty)\n",
    "mlp = keras.models.Sequential()\n",
    "# add a layer that just flattens the input (no weights here)\n",
    "mlp.add(Flatten(input_shape=(32, 32, 3)))\n",
    "# add the first hidden layer with 64 neurons, an activation function of sigmoid, and an input size of 784\n",
    "mlp.add(Dense(512, activation='sigmoid', input_shape=(3072,)))\n",
    "# add the second hidden layer with 64 neurons and sigmoid activation function\n",
    "mlp.add(Dense(512, activation='sigmoid'))\n",
    "# add the output layer with 10 units and Softmax activation function\n",
    "mlp.add(Dense(10, activation='softmax'))"
   ]
  },
  {
   "cell_type": "code",
   "execution_count": 50,
   "metadata": {},
   "outputs": [
    {
     "name": "stdout",
     "output_type": "stream",
     "text": [
      "Epoch 1/5\n",
      "313/313 [==============================] - 7s 20ms/step - loss: 1.9011 - accuracy: 0.3210 - val_loss: 1.8159 - val_accuracy: 0.3667\n",
      "Epoch 2/5\n",
      "313/313 [==============================] - 6s 19ms/step - loss: 1.6930 - accuracy: 0.4020 - val_loss: 1.7204 - val_accuracy: 0.3932\n",
      "Epoch 3/5\n",
      "313/313 [==============================] - 6s 20ms/step - loss: 1.5865 - accuracy: 0.4410 - val_loss: 1.6940 - val_accuracy: 0.4004\n",
      "Epoch 4/5\n",
      "313/313 [==============================] - 6s 20ms/step - loss: 1.4942 - accuracy: 0.4827 - val_loss: 1.6626 - val_accuracy: 0.4166\n",
      "Epoch 5/5\n",
      "313/313 [==============================] - 6s 19ms/step - loss: 1.4213 - accuracy: 0.5012 - val_loss: 1.6722 - val_accuracy: 0.4098\n",
      "313/313 [==============================] - 1s 3ms/step - loss: 1.6722 - accuracy: 0.4098\n"
     ]
    }
   ],
   "source": [
    "mlp.compile(loss='categorical_crossentropy', optimizer='adam', metrics=['accuracy'])\n",
    "\n",
    "# Randomly sample 20% of the training set\n",
    "x_train, x_test, y_train, y_test = train_test_split(train_images, train_labels, train_size=0.2) \n",
    "mlp_h = mlp.fit(x_train, y_train, epochs=5, batch_size=32, validation_data=(test_images, test_labels), verbose=1)\n",
    "result[0, 0] = mlp_h.history['accuracy'][-1]\n",
    "result[0, 1] = mlp_h.history['val_accuracy'][-1]\n",
    "\n",
    "# evalute test accuracy \n",
    "mlp_test = mlp.evaluate(test_images,test_labels, verbose=1)\n",
    "result[0, 2] = mlp_test[0]\n",
    "result[0, 3] = mlp_test[1]"
   ]
  },
  {
   "attachments": {},
   "cell_type": "markdown",
   "metadata": {},
   "source": [
    "## CNN1"
   ]
  },
  {
   "cell_type": "code",
   "execution_count": 51,
   "metadata": {},
   "outputs": [],
   "source": [
    "cnn = Sequential()\n",
    "cnn.add(Conv2D(filters=64, kernel_size=(3, 3), padding='same', activation='relu', input_shape=(32, 32, 3)))\n",
    "cnn.add(Conv2D(64, kernel_size=(3, 3), padding='same', activation='relu'))\n",
    "cnn.add(Flatten())\n",
    "cnn.add(Dense(512, activation='sigmoid'))\n",
    "cnn.add(Dense(512, activation='sigmoid'))\n",
    "cnn.add(Dense(10, activation='softmax'))"
   ]
  },
  {
   "cell_type": "code",
   "execution_count": 52,
   "metadata": {},
   "outputs": [
    {
     "name": "stdout",
     "output_type": "stream",
     "text": [
      "Epoch 1/5\n",
      "313/313 [==============================] - 98s 310ms/step - loss: 1.6751 - accuracy: 0.3894 - val_loss: 1.4280 - val_accuracy: 0.4888\n",
      "Epoch 2/5\n",
      "313/313 [==============================] - 97s 309ms/step - loss: 1.1765 - accuracy: 0.5817 - val_loss: 1.3226 - val_accuracy: 0.5263\n",
      "Epoch 3/5\n",
      "313/313 [==============================] - 97s 311ms/step - loss: 0.6827 - accuracy: 0.7666 - val_loss: 1.3553 - val_accuracy: 0.5463\n",
      "Epoch 4/5\n",
      "313/313 [==============================] - 97s 311ms/step - loss: 0.2135 - accuracy: 0.9423 - val_loss: 1.4616 - val_accuracy: 0.5778\n",
      "Epoch 5/5\n",
      "313/313 [==============================] - 93s 296ms/step - loss: 0.0382 - accuracy: 0.9948 - val_loss: 1.5138 - val_accuracy: 0.5924\n",
      "313/313 [==============================] - 7s 23ms/step - loss: 1.5138 - accuracy: 0.5924\n"
     ]
    }
   ],
   "source": [
    "cnn.compile(loss='categorical_crossentropy', optimizer='adam', metrics=['accuracy'])\n",
    "\n",
    "# Randomly sample 20% of the training set\n",
    "x_train, x_test, y_train, y_test = train_test_split(train_images, train_labels, train_size=0.2) \n",
    "cnn_h = cnn.fit(x_train.reshape(-1, 32, 32, 3), \n",
    "        y_train, \n",
    "        batch_size=32, \n",
    "        epochs=5,\n",
    "        validation_data=(test_images.reshape(-1, 32, 32, 3), test_labels),\n",
    "        verbose=1)\n",
    "result[1, 0] = cnn_h.history['accuracy'][-1]\n",
    "result[1, 1] = cnn_h.history['val_accuracy'][-1]\n",
    "\n",
    "# evalute test accuracy \n",
    "cnn_test = cnn.evaluate(test_images.reshape(-1, 32, 32, 3), test_labels)\n",
    "result[1, 2] = cnn_test[0]\n",
    "result[1, 3] = cnn_test[1]"
   ]
  },
  {
   "attachments": {},
   "cell_type": "markdown",
   "metadata": {},
   "source": [
    "## CNN2"
   ]
  },
  {
   "cell_type": "code",
   "execution_count": 53,
   "metadata": {},
   "outputs": [],
   "source": [
    "cnn2 = Sequential()\n",
    "cnn2.add(Conv2D(filters=64, kernel_size=(3, 3), padding='same', activation='relu'\n",
    ", input_shape=(32, 32, 3)))\n",
    "cnn2.add(MaxPool2D())\n",
    "cnn2.add(Conv2D(64, kernel_size=(3, 3), padding='same', activation='relu'))\n",
    "cnn2.add(MaxPool2D())\n",
    "cnn2.add(Flatten())\n",
    "cnn2.add(Dense(512, activation='sigmoid'))\n",
    "cnn2.add(Dropout(0.2))\n",
    "cnn2.add(Dense(512, activation='sigmoid'))\n",
    "cnn2.add(Dropout(0.2))\n",
    "cnn2.add(Dense(10, activation='softmax'))"
   ]
  },
  {
   "cell_type": "code",
   "execution_count": 54,
   "metadata": {},
   "outputs": [
    {
     "name": "stdout",
     "output_type": "stream",
     "text": [
      "Epoch 1/5\n",
      "313/313 [==============================] - 18s 54ms/step - loss: 1.7539 - accuracy: 0.3548 - val_loss: 1.4044 - val_accuracy: 0.4844\n",
      "Epoch 2/5\n",
      "313/313 [==============================] - 17s 53ms/step - loss: 1.3236 - accuracy: 0.5277 - val_loss: 1.2677 - val_accuracy: 0.5428\n",
      "Epoch 3/5\n",
      "313/313 [==============================] - 17s 53ms/step - loss: 1.1139 - accuracy: 0.6064 - val_loss: 1.1537 - val_accuracy: 0.5882\n",
      "Epoch 4/5\n",
      "313/313 [==============================] - 17s 54ms/step - loss: 0.9357 - accuracy: 0.6653 - val_loss: 1.1154 - val_accuracy: 0.5986\n",
      "Epoch 5/5\n",
      "313/313 [==============================] - 17s 53ms/step - loss: 0.7308 - accuracy: 0.7481 - val_loss: 1.1196 - val_accuracy: 0.6126\n",
      "313/313 [==============================] - 3s 9ms/step - loss: 1.1196 - accuracy: 0.6126\n"
     ]
    }
   ],
   "source": [
    "cnn2.compile(loss='categorical_crossentropy', optimizer='adam', metrics=['accuracy'])\n",
    "\n",
    "# Randomly sample 20% of the training set\n",
    "x_train, x_test, y_train, y_test = train_test_split(train_images, train_labels, train_size=0.2) \n",
    "cnn2_h = cnn2.fit(x_train.reshape(-1, 32, 32, 3), \n",
    "        y_train, \n",
    "        batch_size=32, \n",
    "        epochs=5,\n",
    "        validation_data=(test_images.reshape(-1, 32, 32, 3), test_labels),\n",
    "        verbose=1)\n",
    "result[2, 0] = cnn2_h.history['accuracy'][-1]\n",
    "result[2, 1] = cnn2_h.history['val_accuracy'][-1]\n",
    "\n",
    "# evalute test accuracy \n",
    "cnn2_test = cnn2.evaluate(test_images.reshape(-1, 32, 32, 3),test_labels)\n",
    "result[2, 2] = cnn2_test[0]\n",
    "result[2, 3] = cnn2_test[1]"
   ]
  },
  {
   "attachments": {},
   "cell_type": "markdown",
   "metadata": {},
   "source": [
    "## 2.a"
   ]
  },
  {
   "attachments": {},
   "cell_type": "markdown",
   "metadata": {},
   "source": [
    "From the table below, we can see that in general MLP performs worse than CNN both in terms of the training accuracy and test accuracy. This makes sense because CNNs are primarily used for image recognition tasks by taking advantage of the spatial structure of an image, learning features such as edges, lines, and textures. On the other hand, MLPs are more general purposed  for classification, regression, and other tasks. However, an advantage of MLP is the simple architecture of MLP compared to CNN, we can see that it trains significantly faster than CNN in general. "
   ]
  },
  {
   "cell_type": "code",
   "execution_count": 57,
   "metadata": {},
   "outputs": [
    {
     "name": "stdout",
     "output_type": "stream",
     "text": [
      "      train accuracy  train val accuray  test loss  test accuracy\n",
      "MLP           0.5012             0.4098   1.672189         0.4098\n",
      "CNN           0.9948             0.5924   1.513774         0.5924\n",
      "CNN2          0.7481             0.6126   1.119578         0.6126\n"
     ]
    }
   ],
   "source": [
    "df = pd.DataFrame(result, columns=[\"train accuracy\", \"train val accuray\", \"test loss\", \"test accuracy\"],\n",
    "                index=[\"MLP\", \"CNN\", \"CNN2\"])\n",
    "\n",
    "print(df)\n"
   ]
  },
  {
   "attachments": {},
   "cell_type": "markdown",
   "metadata": {},
   "source": [
    "## 2.b"
   ]
  },
  {
   "attachments": {},
   "cell_type": "markdown",
   "metadata": {},
   "source": [
    "As we can see from the figure below, the training time for the first CNN model is significantlylonger than then the second one. This is because the 2 addtional max pooling layer reduces the size of the images by half. Between the two CNN we can see that although the first CNN shows signficantly higher training accuracy, it shows slightly lower validation accuracy and subsequently lower test accuracy, a clear sign of overfitting. This is because it lacks the dropout layer from the second CNN model which provides regularization to\n",
    "reduce a overfitting. "
   ]
  },
  {
   "cell_type": "code",
   "execution_count": 58,
   "metadata": {},
   "outputs": [
    {
     "data": {
      "image/png": "[encoded data removed]",
      "text/plain": [
       "<Figure size 640x480 with 1 Axes>"
      ]
     },
     "metadata": {},
     "output_type": "display_data"
    }
   ],
   "source": [
    "# plot accuracy for the first CNN model\n",
    "plt.plot(cnn_h.history['accuracy'], label='cnn1 accuracy')\n",
    "plt.plot(cnn_h.history['val_accuracy'], label='cnn1 val_accuracy')\n",
    "\n",
    "# plot accuracy for the second CNN model\n",
    "plt.plot(cnn2_h.history['accuracy'], label='cnn2 accuracy')\n",
    "plt.plot(cnn2_h.history['val_accuracy'], label='cnn2 val_accuracy')\n",
    "\n",
    "plt.legend(loc='best')\n",
    "plt.show()"
   ]
  }
 ],
 "metadata": {
  "kernelspec": {
   "display_name": "Python 3",
   "language": "python",
   "name": "python3"
  },
  "language_info": {
   "codemirror_mode": {
    "name": "ipython",
    "version": 3
   },
   "file_extension": ".py",
   "mimetype": "text/x-python",
   "name": "python",
   "nbconvert_exporter": "python",
   "pygments_lexer": "ipython3",
   "version": "3.10.4"
  },
  "orig_nbformat": 4
 },
 "nbformat": 4,
 "nbformat_minor": 2
}
