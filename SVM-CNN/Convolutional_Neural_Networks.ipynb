{
 "cells": [
  {
   "cell_type": "markdown",
   "metadata": {},
   "source": [
    "# <center> A Convolutional Neural Network Implementation </center> \n",
    "\n",
    "This tutorial focuses on building a CNN using Keras\n",
    " \n",
    "You will need to the following libraries to run this code:\n",
    "* __[numpy](http://www.numpy.org/)__\n",
    "* __[matplotlib](https://matplotlib.org/)__\n",
    "* __[tensorflow](https://www.tensorflow.org/)__\n",
    "* __[keras](https://keras.io/)__"
   ]
  },
  {
   "cell_type": "code",
   "execution_count": 1,
   "metadata": {},
   "outputs": [],
   "source": [
    "from __future__ import division\n",
    "from __future__ import print_function\n",
    "import numpy as np\n",
    "import matplotlib.pyplot as plt\n",
    "from tensorflow.keras.models import Sequential\n",
    "from tensorflow.keras.layers import Dense, Conv2D, MaxPool2D, Flatten, Dropout\n",
    "from tensorflow.keras.datasets import mnist\n",
    "from tensorflow.keras.utils import to_categorical"
   ]
  },
  {
   "cell_type": "code",
   "execution_count": 2,
   "metadata": {},
   "outputs": [
    {
     "name": "stdout",
     "output_type": "stream",
     "text": [
      "train images shape: (60000, 28, 28)\n",
      "train labels shape: (60000, 10)\n",
      "test images shape: (10000, 28, 28)\n",
      "test labels shape: (10000, 10)\n"
     ]
    }
   ],
   "source": [
    "(train_images, train_labels), (test_images, test_labels) = mnist.load_data()\n",
    "train_labels = to_categorical(train_labels, num_classes=10)\n",
    "test_labels = to_categorical(test_labels, num_classes=10)\n",
    "print('train images shape:', train_images.shape)\n",
    "print('train labels shape:', train_labels.shape)\n",
    "print('test images shape:', test_images.shape)\n",
    "print('test labels shape:', test_labels.shape)"
   ]
  },
  {
   "cell_type": "markdown",
   "metadata": {},
   "source": [
    "#### Data normalization \n",
    "Let's also normalize the data by subtracting the mean and dividing by the standard deviation. Notice that\n",
    "the mean and std of the training set are used in both cases."
   ]
  },
  {
   "cell_type": "code",
   "execution_count": 3,
   "metadata": {},
   "outputs": [],
   "source": [
    "train_images = train_images.astype(np.float32)\n",
    "mean = np.mean(train_images)\n",
    "std = np.std(train_images)\n",
    "train_images = (train_images - mean) / std\n",
    "test_images = (test_images - mean) / std"
   ]
  },
  {
   "cell_type": "markdown",
   "metadata": {},
   "source": [
    "## Building the CNN model\n",
    "Next, we will build a CNN model. Keras has a very simple API, in which we first instantiate a model, and then\n",
    "add layers to it. The first layer added should define the size of input the CNN should expect. We will add first\n",
    "a convolutional layer. We need to set the number of filters (kernels or units) in the layer, the size of the filters,\n",
    "the type of padding to use to handle the edges, and the activation function to use. There are many other\n",
    "things you can set in the layer (check keras docs). Notice how we define the input shape; these are 28x28\n",
    "pixel images, and the last entry is the number of channels. Grayscale images have 1 channel, RGB images\n",
    "have 3."
   ]
  },
  {
   "cell_type": "code",
   "execution_count": 4,
   "metadata": {},
   "outputs": [],
   "source": [
    "cnn = Sequential()\n",
    "cnn.add(Conv2D(filters=64, kernel_size=(3, 3), padding='same', activation='relu'\n",
    ", input_shape=(28, 28, 1)))"
   ]
  },
  {
   "cell_type": "markdown",
   "metadata": {},
   "source": [
    "Next we will add a max pooling layer, leaving the default parameters. This should reduce the size of the\n",
    "images to 14x14."
   ]
  },
  {
   "cell_type": "code",
   "execution_count": 5,
   "metadata": {},
   "outputs": [],
   "source": [
    "cnn.add(MaxPool2D())"
   ]
  },
  {
   "cell_type": "markdown",
   "metadata": {},
   "source": [
    "Let's add another convolutional/maxpooling layers, reducing the size of the images to 7x7."
   ]
  },
  {
   "cell_type": "code",
   "execution_count": 6,
   "metadata": {},
   "outputs": [],
   "source": [
    "cnn.add(Conv2D(64, kernel_size=(3, 3), padding='same', activation='relu'))"
   ]
  },
  {
   "cell_type": "code",
   "execution_count": 7,
   "metadata": {},
   "outputs": [],
   "source": [
    "cnn.add(MaxPool2D())"
   ]
  },
  {
   "cell_type": "markdown",
   "metadata": {},
   "source": [
    "Next, we want to add some fully connected layers. To do this, first we need to 'flatten' the output of the\n",
    "previous layer, which has shape batch_sizex7x7x64, into batch_sizex3136."
   ]
  },
  {
   "cell_type": "code",
   "execution_count": 8,
   "metadata": {},
   "outputs": [],
   "source": [
    "cnn.add(Flatten())"
   ]
  },
  {
   "cell_type": "markdown",
   "metadata": {},
   "source": [
    "Now let's add a fully connected layer with 512 units, and ReLU activation."
   ]
  },
  {
   "cell_type": "code",
   "execution_count": 9,
   "metadata": {},
   "outputs": [],
   "source": [
    "cnn.add(Dense(512, activation='relu'))"
   ]
  },
  {
   "cell_type": "markdown",
   "metadata": {},
   "source": [
    "Before we add another fully connected layer, let's also add a 'dropout' layer. Dropout is a recent\n",
    "regularization technique commonly used in deep networks. Regularization refers to methods that try to\n",
    "reduce a phenonmenon called 'overfitting', in which the model performs well on the training data, but poorly\n",
    "on the test data."
   ]
  },
  {
   "cell_type": "code",
   "execution_count": 10,
   "metadata": {},
   "outputs": [],
   "source": [
    "cnn.add(Dropout(0.5))\n",
    "cnn.add(Dense(512, activation='relu'))\n",
    "cnn.add(Dropout(0.5))"
   ]
  },
  {
   "cell_type": "markdown",
   "metadata": {},
   "source": [
    "Finally we will add the last layer. Since this is a classifcation problem with 10 classes, we will add a layer\n",
    "with 10 units and softmax activations."
   ]
  },
  {
   "cell_type": "code",
   "execution_count": 11,
   "metadata": {},
   "outputs": [],
   "source": [
    "cnn.add(Dense(10, activation='softmax'))"
   ]
  },
  {
   "cell_type": "markdown",
   "metadata": {},
   "source": [
    "Now that our CNN model is complete, we need to compile it, specifying the optimizer to use and the loss\n",
    "function. We will use the Adam optimizer with default parameters, and, since this is a mutliclass\n",
    "classification problem, we will use the catrgorical cross entropy loss. We will use accuracy as a metric (this is just\n",
    "used to keep track of performance, but does not affect the training)."
   ]
  },
  {
   "cell_type": "code",
   "execution_count": 12,
   "metadata": {},
   "outputs": [],
   "source": [
    "## Compile the model"
   ]
  },
  {
   "cell_type": "code",
   "execution_count": 13,
   "metadata": {},
   "outputs": [],
   "source": [
    "cnn.compile(loss='categorical_crossentropy', optimizer='adam', metrics=['accuracy'])"
   ]
  },
  {
   "cell_type": "code",
   "execution_count": 14,
   "metadata": {},
   "outputs": [],
   "source": [
    "## Train the model"
   ]
  },
  {
   "cell_type": "markdown",
   "metadata": {},
   "source": [
    "We are ready now to train the model. We can specify the batch size and the number of epochs for training.\n",
    "Notice that we need to modify the shape of the input first to add the channels dimension. Note that\n",
    "depending on what machine you are using, this might take a while to run."
   ]
  },
  {
   "cell_type": "code",
   "execution_count": 15,
   "metadata": {},
   "outputs": [
    {
     "name": "stdout",
     "output_type": "stream",
     "text": [
      "Epoch 1/5\n",
      "1875/1875 [==============================] - 68s 6ms/step - loss: 0.1638 - accuracy: 0.9491 - val_loss: 0.0561 - val_accuracy: 0.9816\n",
      "Epoch 2/5\n",
      "1875/1875 [==============================] - 9s 5ms/step - loss: 0.0653 - accuracy: 0.9815 - val_loss: 0.0333 - val_accuracy: 0.9906\n",
      "Epoch 3/5\n",
      "1875/1875 [==============================] - 10s 5ms/step - loss: 0.0492 - accuracy: 0.9857 - val_loss: 0.0418 - val_accuracy: 0.9879\n",
      "Epoch 4/5\n",
      "1875/1875 [==============================] - 9s 5ms/step - loss: 0.0409 - accuracy: 0.9884 - val_loss: 0.0303 - val_accuracy: 0.9915\n",
      "Epoch 5/5\n",
      "1875/1875 [==============================] - 9s 5ms/step - loss: 0.0365 - accuracy: 0.9897 - val_loss: 0.0289 - val_accuracy: 0.9913\n"
     ]
    },
    {
     "data": {
      "text/plain": [
       "<tensorflow.python.keras.callbacks.History at 0x15dc1f57b88>"
      ]
     },
     "execution_count": 15,
     "metadata": {},
     "output_type": "execute_result"
    }
   ],
   "source": [
    "cnn.fit(train_images.reshape(-1, 28, 28, 1), \n",
    "        train_labels, \n",
    "        batch_size=32, \n",
    "        epochs=5,\n",
    "        validation_data=(test_images.reshape(-1, 28, 28, 1), test_labels))"
   ]
  },
  {
   "cell_type": "code",
   "execution_count": 29,
   "metadata": {},
   "outputs": [
    {
     "name": "stdout",
     "output_type": "stream",
     "text": [
      "313/313 [==============================] - 1s 4ms/step - loss: 0.0289 - accuracy: 0.9913\n"
     ]
    },
    {
     "data": {
      "text/plain": [
       "[0.028918975964188576, 0.9912999868392944]"
      ]
     },
     "execution_count": 29,
     "metadata": {},
     "output_type": "execute_result"
    }
   ],
   "source": [
    "cnn.evaluate(test_images.reshape(-1, 28, 28, 1),test_labels)"
   ]
  },
  {
   "cell_type": "markdown",
   "metadata": {},
   "source": [
    "### Visualization\n",
    "It may be interesting to visualize the 64 3x3 CNN filters learned in the first convolutional layers."
   ]
  },
  {
   "cell_type": "code",
   "execution_count": 30,
   "metadata": {},
   "outputs": [
    {
     "name": "stdout",
     "output_type": "stream",
     "text": [
      "(3, 3, 1, 64)\n"
     ]
    }
   ],
   "source": [
    "weights = cnn.get_weights()[0]\n",
    "print(weights.shape)"
   ]
  },
  {
   "cell_type": "code",
   "execution_count": 31,
   "metadata": {},
   "outputs": [
    {
     "data": {
      "image/png": "[encoded data removed]",
      "text/plain": [
       "<Figure size 576x576 with 64 Axes>"
      ]
     },
     "metadata": {},
     "output_type": "display_data"
    }
   ],
   "source": [
    "fig = plt.figure(facecolor='w', edgecolor='w', figsize=(8, 8))\n",
    "fig.subplots_adjust(wspace=0.05, hspace=0.05)\n",
    "for i in range(64):\n",
    " sp = fig.add_subplot(8, 8, i+1)\n",
    " sp.set_axis_off()\n",
    " plt.imshow(weights[:, :, 0, i])\n",
    " plt.set_cmap('gray')\n",
    "plt.show()"
   ]
  },
  {
   "cell_type": "markdown",
   "metadata": {},
   "source": [
    "Although not very clear, the filters learn to look for elemntary concepts like oriented edges, symmetries, etc."
   ]
  },
  {
   "cell_type": "code",
   "execution_count": null,
   "metadata": {},
   "outputs": [],
   "source": []
  }
 ],
 "metadata": {
  "anaconda-cloud": {},
  "kernelspec": {
   "display_name": "Python 3",
   "language": "python",
   "name": "python3"
  },
  "language_info": {
   "codemirror_mode": {
    "name": "ipython",
    "version": 3
   },
   "file_extension": ".py",
   "mimetype": "text/x-python",
   "name": "python",
   "nbconvert_exporter": "python",
   "pygments_lexer": "ipython3",
   "version": "3.7.7"
  }
 },
 "nbformat": 4,
 "nbformat_minor": 1
}
